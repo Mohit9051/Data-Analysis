{
  "nbformat": 4,
  "nbformat_minor": 0,
  "metadata": {
    "colab": {
      "provenance": []
    },
    "kernelspec": {
      "name": "python3",
      "display_name": "Python 3"
    },
    "language_info": {
      "name": "python"
    }
  },
  "cells": [
    {
      "cell_type": "markdown",
      "source": [
        "1. Create a model to predict next 3 day stock prices using historical data."
      ],
      "metadata": {
        "id": "V30dlRYngLLz"
      }
    },
    {
      "cell_type": "code",
      "source": [
        "import pandas as pd\n",
        "from sklearn.model_selection import train_test_split\n",
        "from sklearn.linear_model import LinearRegression\n",
        "from sklearn.metrics import mean_squared_error\n",
        "\n",
        "# Load the dataset\n",
        "data = {\n",
        "    'Date': ['11/25/2019', '11/26/2019', '11/27/2019', '11/28/2019', '11/29/2019', '12/2/2019', '12/3/2019', '12/4/2019', '12/5/2019', '12/6/2019', '12/9/2019', '12/10/2019', '12/11/2019', '12/12/2019', '12/13/2019', '12/16/2019'],\n",
        "    'Open': [329, 338, 335.950012, 346.850006, 348.850006, 343.899994, 341, 334.100006, 343, 336.700012, 318.950012, 317.200012, 311.200012, 314, 325.200012, 335.950012],\n",
        "    'High': [337.5, 340, 345.549988, 351, 348.850006, 344.350006, 342.950012, 342.950012, 344.600006, 337.649994, 327.649994, 322.649994, 315.75, 322.950012, 333.450012, 337.25],\n",
        "    'Low': [328.350006, 332.600006, 334.049988, 344.5, 340.600006, 336.200012, 333.350006, 331.850006, 335.149994, 318, 314.75, 312.25, 308, 313.549988, 325, 330.799988],\n",
        "    'Close': [336.100006, 335.5, 343.549988, 349.299988, 341.850006, 338.5, 336.25, 341.850006, 336.200012, 320, 316.700012, 313.399994, 312.799988, 321.850006, 332.549988, 331.850006],\n",
        "    'Adj Close': [336.100006, 335.5, 343.549988, 349.299988, 341.850006, 338.5, 336.25, 341.850006, 336.200012, 320, 316.700012, 313.399994, 312.799988, 321.850006, 332.549988, 331.850006],\n",
        "    'Volume': [27561300, 36464072, 33971305, 42538227, 23081823, 20648850, 26482178, 26789483, 30429507, 47027528, 52435239, 52155809, 52557951, 37804216, 40955226, 35027613]\n",
        "}\n",
        "\n",
        "df = pd.DataFrame(data)\n",
        "\n",
        "# Feature engineering: create additional features if needed\n",
        "\n",
        "# Splitting data into features and target variable\n",
        "X = df[['Open', 'High', 'Low', 'Adj Close', 'Volume']]\n",
        "y = df['Close']\n",
        "\n",
        "# Splitting the data into training and testing sets\n",
        "X_train, X_test, y_train, y_test = train_test_split(X, y, test_size=0.2, random_state=42)\n",
        "\n",
        "# Initializing the linear regression model\n",
        "model = LinearRegression()\n",
        "\n",
        "# Training the model\n",
        "model.fit(X_train, y_train)\n",
        "\n",
        "# Predicting the next 3-day stock prices\n",
        "future_dates = ['12/17/2019', '12/18/2019', '12/19/2019']  # Dates for prediction\n",
        "future_data = {\n",
        "    'Open': [337.25, 338.0, 336.5],  # Replace with your predicted open prices\n",
        "    'High': [339.0, 340.0, 338.5],   # Replace with your predicted high prices\n",
        "    'Low': [334.0, 336.0, 335.5],    # Replace with your predicted low prices\n",
        "    'Adj Close': [336.5, 338.0, 336.5],  # Replace with your predicted adjusted close prices\n",
        "    'Volume': [36000000, 37000000, 38000000]  # Replace with your predicted volume\n",
        "}\n",
        "\n",
        "future_df = pd.DataFrame(future_data)\n",
        "\n",
        "# Making predictions\n",
        "predictions = model.predict(future_df)\n",
        "\n",
        "# Displaying the predictions\n",
        "for i in range(len(future_dates)):\n",
        "    print(f\"Predicted Close Price for {future_dates[i]}: {predictions[i]}\")\n"
      ],
      "metadata": {
        "colab": {
          "base_uri": "https://localhost:8080/"
        },
        "id": "C2knwrEiRRdE",
        "outputId": "c2a65fc4-212c-408f-ff4d-22d930ff1534"
      },
      "execution_count": 45,
      "outputs": [
        {
          "output_type": "stream",
          "name": "stdout",
          "text": [
            "Predicted Close Price for 12/17/2019: 336.49999999999653\n",
            "Predicted Close Price for 12/18/2019: 337.999999999998\n",
            "Predicted Close Price for 12/19/2019: 336.49999999999955\n"
          ]
        }
      ]
    },
    {
      "cell_type": "markdown",
      "source": [
        "2. Sentiment analysis on the news/twitter related to a particular stock.\n"
      ],
      "metadata": {
        "id": "x1rsipekgSav"
      }
    },
    {
      "cell_type": "code",
      "source": [
        "from textblob import TextBlob\n",
        "\n",
        "# List of tweets related to a specific stock\n",
        "tweets = [\n",
        "    \"#sbin Today giving nice swing both side.. No need of any other cash stocks today...\",\n",
        "    \"Buy 1 CURMON #SBIN contracts at 243.45, Sell 2 CURMON #PNB contracts at 31.85. Confidence = 65%, on 2020-11-25::11:26:04\",\n",
        "    \"#SBIN - SBIN LONG - TradingView - https://t.co/iPcsVO0uAM\",\n",
        "    \"State Bank India target has been reached #ShortTermCash #CNC #SBIN #StockMarket #NSE #BSE #IndianMarket https://t.co/bldt23zkPM\",\n",
        "    \"Nifty50 trade above 13,100. Nifty Bank 30000+ in gap up opening. #Sensex at 44,742.95 +219.93 . #IndianMarket #Equity #StockMarket #ONGC #TATAMOTORS #SBIN leads the market.\",\n",
        "    \"#SBIN #RBLBANK #IBULHSGFIN BULLISH, BUY IN DIPS. #frontpage_app\",\n",
        "    \"#SBIN - Another trade of the day. #PriceAction #Traders #Nifty #BankNifty #TechnicalAnalysis #ChartPattern #Stockstwatch #Trendlines #Breakout #Option #Futures https://t.co/Olom5S0zkI\",\n",
        "    \"#PSU #Banks Ignored in this  Uptrend rally but I don't think they will be ignored more and will be a new Participate. watch the #Index and wait for the #Harmonic pattern activated above 1661.. Keep an eye on PSU banks #sbin #bankofbaroda #Banks #BankingSector #Markets #Nifty https://t.co/9zgTpcr87u\",\n",
        "    \"RT @shivaji_1983: Similarities between 2014 & 2020 setups. #PSUBANKS #CANBK #BankBaroda #SBIN #INDIANBANK #UnionBankofIndia All thes…\",\n",
        "    \"#sbin too confirms buy signal @243\",\n",
        "    \"Top 7 Banks in India Follow us on @iifsindia #India #topbanks #iifsindia #HDFCBank #ICICIBank #BandhanBank #StateBankOfIndia #KotakMahindraBank #SBIN #AxisBank #ICICI #InduslndBank #marketcap #sensextoday #financialeducation #equity https://t.co/pOiCTo9uOQ\",\n",
        "    \"Buy 9 CURMON #BANKBARODA contracts at 46, Sell 4 CURMON #SBIN contracts at 242.15. Confidence = 65%, on 2020-11-24::12:28:04\",\n",
        "    \"Do u agree for broad based stocks rally #reliance should fall so other stocks will get chance to rally @NeerajCNBC @rajeshpalviya @_anishaj #sunpharma #drreddy #sbin #nifty #banknifty\",\n",
        "    \"Buy 9 CURMON #BANKBARODA contracts at 45.95, Sell 4 CURMON #SBIN contracts at 241.9. Confidence = 66%, on 2020-11-24::12:05:04\",\n",
        "    \"Huge Up move possible in coming days positional traders can buy in cash or option for 1 month time frame. #Bankbaroda #DRREDDY #SunPharma #Recltd #ONGC #SBIN #PFC #Torrentpower My target is minimum 5% in all the above script https://t.co/8J6uESD4eM\"\n",
        "]\n",
        "\n",
        "# Perform sentiment analysis on each tweet\n",
        "sentiments = []\n",
        "for tweet in tweets:\n",
        "    analysis = TextBlob(tweet)\n",
        "    polarity = analysis.sentiment.polarity\n",
        "    if polarity > 0:\n",
        "        sentiments.append('Positive')\n",
        "    elif polarity == 0:\n",
        "        sentiments.append('Neutral')\n",
        "    else:\n",
        "        sentiments.append('Negative')\n",
        "\n",
        "# Print the sentiments of each tweet\n",
        "for i, tweet in enumerate(tweets):\n",
        "    print(f\"Tweet {i+1}: {tweet} - Sentiment: {sentiments[i]}\")\n"
      ],
      "metadata": {
        "colab": {
          "base_uri": "https://localhost:8080/"
        },
        "id": "wuBSvv3CRsQK",
        "outputId": "a90c9687-4eb5-4fad-ab5d-29f7c9ba8fec"
      },
      "execution_count": 46,
      "outputs": [
        {
          "output_type": "stream",
          "name": "stdout",
          "text": [
            "Tweet 1: #sbin Today giving nice swing both side.. No need of any other cash stocks today... - Sentiment: Positive\n",
            "Tweet 2: Buy 1 CURMON #SBIN contracts at 243.45, Sell 2 CURMON #PNB contracts at 31.85. Confidence = 65%, on 2020-11-25::11:26:04 - Sentiment: Neutral\n",
            "Tweet 3: #SBIN - SBIN LONG - TradingView - https://t.co/iPcsVO0uAM - Sentiment: Negative\n",
            "Tweet 4: State Bank India target has been reached #ShortTermCash #CNC #SBIN #StockMarket #NSE #BSE #IndianMarket https://t.co/bldt23zkPM - Sentiment: Neutral\n",
            "Tweet 5: Nifty50 trade above 13,100. Nifty Bank 30000+ in gap up opening. #Sensex at 44,742.95 +219.93 . #IndianMarket #Equity #StockMarket #ONGC #TATAMOTORS #SBIN leads the market. - Sentiment: Neutral\n",
            "Tweet 6: #SBIN #RBLBANK #IBULHSGFIN BULLISH, BUY IN DIPS. #frontpage_app - Sentiment: Neutral\n",
            "Tweet 7: #SBIN - Another trade of the day. #PriceAction #Traders #Nifty #BankNifty #TechnicalAnalysis #ChartPattern #Stockstwatch #Trendlines #Breakout #Option #Futures https://t.co/Olom5S0zkI - Sentiment: Neutral\n",
            "Tweet 8: #PSU #Banks Ignored in this  Uptrend rally but I don't think they will be ignored more and will be a new Participate. watch the #Index and wait for the #Harmonic pattern activated above 1661.. Keep an eye on PSU banks #sbin #bankofbaroda #Banks #BankingSector #Markets #Nifty https://t.co/9zgTpcr87u - Sentiment: Positive\n",
            "Tweet 9: RT @shivaji_1983: Similarities between 2014 & 2020 setups. #PSUBANKS #CANBK #BankBaroda #SBIN #INDIANBANK #UnionBankofIndia All thes… - Sentiment: Neutral\n",
            "Tweet 10: #sbin too confirms buy signal @243 - Sentiment: Neutral\n",
            "Tweet 11: Top 7 Banks in India Follow us on @iifsindia #India #topbanks #iifsindia #HDFCBank #ICICIBank #BandhanBank #StateBankOfIndia #KotakMahindraBank #SBIN #AxisBank #ICICI #InduslndBank #marketcap #sensextoday #financialeducation #equity https://t.co/pOiCTo9uOQ - Sentiment: Positive\n",
            "Tweet 12: Buy 9 CURMON #BANKBARODA contracts at 46, Sell 4 CURMON #SBIN contracts at 242.15. Confidence = 65%, on 2020-11-24::12:28:04 - Sentiment: Neutral\n",
            "Tweet 13: Do u agree for broad based stocks rally #reliance should fall so other stocks will get chance to rally @NeerajCNBC @rajeshpalviya @_anishaj #sunpharma #drreddy #sbin #nifty #banknifty - Sentiment: Negative\n",
            "Tweet 14: Buy 9 CURMON #BANKBARODA contracts at 45.95, Sell 4 CURMON #SBIN contracts at 241.9. Confidence = 66%, on 2020-11-24::12:05:04 - Sentiment: Neutral\n",
            "Tweet 15: Huge Up move possible in coming days positional traders can buy in cash or option for 1 month time frame. #Bankbaroda #DRREDDY #SunPharma #Recltd #ONGC #SBIN #PFC #Torrentpower My target is minimum 5% in all the above script https://t.co/8J6uESD4eM - Sentiment: Positive\n"
          ]
        }
      ]
    },
    {
      "cell_type": "markdown",
      "source": [
        "3. Compare two or more companies based on their industry.\n"
      ],
      "metadata": {
        "id": "mqoYW_wDgYBt"
      }
    },
    {
      "cell_type": "code",
      "source": [
        "import pandas as pd\n",
        "\n",
        "# Define the datasets\n",
        "company1_data = {\n",
        "    'Name': ['Company A'],\n",
        "    'Industry': ['Tech'],\n",
        "    'Revenue ($ billion)': [100],\n",
        "    'Profit ($ billion)': [20],\n",
        "    'Market Share (%)': [15]\n",
        "}\n",
        "\n",
        "company2_data = {\n",
        "    'Name': ['Company B'],\n",
        "    'Industry': ['Tech'],\n",
        "    'Revenue ($ billion)': [120],\n",
        "    'Profit ($ billion)': [25],\n",
        "    'Market Share (%)': [18]\n",
        "}\n",
        "\n",
        "# Create DataFrame for each company\n",
        "company1_df = pd.DataFrame(company1_data)\n",
        "company2_df = pd.DataFrame(company2_data)\n",
        "\n",
        "# Add a column to identify the company\n",
        "company1_df['Company'] = 'Company A'\n",
        "company2_df['Company'] = 'Company B'\n",
        "\n",
        "# Concatenate the two DataFrames\n",
        "combined_df = pd.concat([company1_df, company2_df], ignore_index=True)\n",
        "\n",
        "# Compare the two companies\n",
        "print(\"Comparison of Company A and Company B:\")\n",
        "print(combined_df)\n",
        "print(\"\\n\")\n",
        "\n",
        "# Compare total revenue\n",
        "total_revenue_comparison = combined_df.groupby('Company')['Revenue ($ billion)'].sum()\n",
        "print(\"Total Revenue Comparison:\")\n",
        "print(total_revenue_comparison)\n",
        "print(\"\\n\")\n",
        "\n",
        "# Compare average profit\n",
        "average_profit_comparison = combined_df.groupby('Company')['Profit ($ billion)'].mean()\n",
        "print(\"Average Profit Comparison:\")\n",
        "print(average_profit_comparison)\n",
        "print(\"\\n\")\n",
        "\n",
        "# Compare market share\n",
        "market_share_comparison = combined_df.groupby('Company')['Market Share (%)'].mean()\n",
        "print(\"Market Share Comparison:\")\n",
        "print(market_share_comparison)\n"
      ],
      "metadata": {
        "colab": {
          "base_uri": "https://localhost:8080/"
        },
        "id": "A-FHa69EgcsI",
        "outputId": "bc19a99a-1417-46f2-e466-aa8cc7ed0415"
      },
      "execution_count": 47,
      "outputs": [
        {
          "output_type": "stream",
          "name": "stdout",
          "text": [
            "Comparison of Company A and Company B:\n",
            "        Name Industry  Revenue ($ billion)  Profit ($ billion)  \\\n",
            "0  Company A     Tech                  100                  20   \n",
            "1  Company B     Tech                  120                  25   \n",
            "\n",
            "   Market Share (%)    Company  \n",
            "0                15  Company A  \n",
            "1                18  Company B  \n",
            "\n",
            "\n",
            "Total Revenue Comparison:\n",
            "Company\n",
            "Company A    100\n",
            "Company B    120\n",
            "Name: Revenue ($ billion), dtype: int64\n",
            "\n",
            "\n",
            "Average Profit Comparison:\n",
            "Company\n",
            "Company A    20.0\n",
            "Company B    25.0\n",
            "Name: Profit ($ billion), dtype: float64\n",
            "\n",
            "\n",
            "Market Share Comparison:\n",
            "Company\n",
            "Company A    15.0\n",
            "Company B    18.0\n",
            "Name: Market Share (%), dtype: float64\n"
          ]
        }
      ]
    },
    {
      "cell_type": "markdown",
      "source": [
        "Search engine to make use of information retrieval techniques for searching."
      ],
      "metadata": {
        "id": "GcO1plr4kypY"
      }
    },
    {
      "cell_type": "code",
      "source": [
        "# Create a search engine instance\n",
        "search_engine = SearchEngine()\n",
        "\n",
        "# Index some example documents\n",
        "search_engine.index_document(1, \"Python is a popular programming language\")\n",
        "search_engine.index_document(2, \"Java is also widely used for software development\")\n",
        "search_engine.index_document(3, \"Python and Java are both object-oriented programming languages\")\n",
        "search_engine.index_document(4, \"C++ is commonly used for system programming\")\n",
        "search_engine.index_document(5, \"JavaScript is often used for web development\")\n",
        "\n",
        "# Perform searches\n",
        "queries = [\"Python programming\", \"Java development\", \"programming languages\", \"JavaScript\"]\n",
        "\n",
        "for query in queries:\n",
        "    print(f\"Search results for '{query}':\")\n",
        "    results = search_engine.search(query)\n",
        "    if results:\n",
        "        for doc_id in results:\n",
        "            print(f\"Document {doc_id}: {search_engine.documents[doc_id]}\")\n",
        "    else:\n",
        "        print(\"No results found.\")\n",
        "    print()  # Add a newline for readability\n"
      ],
      "metadata": {
        "colab": {
          "base_uri": "https://localhost:8080/"
        },
        "id": "Uf5rjmHCmFzR",
        "outputId": "cd6a2f30-0213-4cbe-d047-7be7fe387694"
      },
      "execution_count": 49,
      "outputs": [
        {
          "output_type": "stream",
          "name": "stdout",
          "text": [
            "Search results for 'Python programming':\n",
            "No results found.\n",
            "\n",
            "Search results for 'Java development':\n",
            "No results found.\n",
            "\n",
            "Search results for 'programming languages':\n",
            "Document 3: python and java are both object-oriented programming languages\n",
            "\n",
            "Search results for 'JavaScript':\n",
            "Document 5: javascript is often used for web development\n",
            "\n"
          ]
        }
      ]
    },
    {
      "cell_type": "markdown",
      "source": [
        "Make a Dashboard to produce comprehensive reports and compile the findings.\n"
      ],
      "metadata": {
        "id": "Jtj-1jt0mLsm"
      }
    },
    {
      "cell_type": "code",
      "source": [
        "!pip install dash\n",
        "!pip install dash-core-components\n",
        "!pip install dash-html-components\n",
        "!pip install dash-renderer\n",
        "!pip install plotly\n"
      ],
      "metadata": {
        "colab": {
          "base_uri": "https://localhost:8080/"
        },
        "id": "Py5XPe-rp_vi",
        "outputId": "ad38d380-ad87-48dd-e36e-a399332b75e7"
      },
      "execution_count": 51,
      "outputs": [
        {
          "output_type": "stream",
          "name": "stdout",
          "text": [
            "Collecting dash\n",
            "  Downloading dash-2.16.1-py3-none-any.whl (10.2 MB)\n",
            "\u001b[2K     \u001b[90m━━━━━━━━━━━━━━━━━━━━━━━━━━━━━━━━━━━━━━━━\u001b[0m \u001b[32m10.2/10.2 MB\u001b[0m \u001b[31m44.6 MB/s\u001b[0m eta \u001b[36m0:00:00\u001b[0m\n",
            "\u001b[?25hRequirement already satisfied: Flask<3.1,>=1.0.4 in /usr/local/lib/python3.10/dist-packages (from dash) (2.2.5)\n",
            "Requirement already satisfied: Werkzeug<3.1 in /usr/local/lib/python3.10/dist-packages (from dash) (3.0.1)\n",
            "Requirement already satisfied: plotly>=5.0.0 in /usr/local/lib/python3.10/dist-packages (from dash) (5.15.0)\n",
            "Collecting dash-html-components==2.0.0 (from dash)\n",
            "  Downloading dash_html_components-2.0.0-py3-none-any.whl (4.1 kB)\n",
            "Collecting dash-core-components==2.0.0 (from dash)\n",
            "  Downloading dash_core_components-2.0.0-py3-none-any.whl (3.8 kB)\n",
            "Collecting dash-table==5.0.0 (from dash)\n",
            "  Downloading dash_table-5.0.0-py3-none-any.whl (3.9 kB)\n",
            "Requirement already satisfied: importlib-metadata in /usr/local/lib/python3.10/dist-packages (from dash) (7.0.2)\n",
            "Requirement already satisfied: typing-extensions>=4.1.1 in /usr/local/lib/python3.10/dist-packages (from dash) (4.10.0)\n",
            "Requirement already satisfied: requests in /usr/local/lib/python3.10/dist-packages (from dash) (2.31.0)\n",
            "Collecting retrying (from dash)\n",
            "  Downloading retrying-1.3.4-py3-none-any.whl (11 kB)\n",
            "Requirement already satisfied: nest-asyncio in /usr/local/lib/python3.10/dist-packages (from dash) (1.6.0)\n",
            "Requirement already satisfied: setuptools in /usr/local/lib/python3.10/dist-packages (from dash) (67.7.2)\n",
            "Requirement already satisfied: Jinja2>=3.0 in /usr/local/lib/python3.10/dist-packages (from Flask<3.1,>=1.0.4->dash) (3.1.3)\n",
            "Requirement already satisfied: itsdangerous>=2.0 in /usr/local/lib/python3.10/dist-packages (from Flask<3.1,>=1.0.4->dash) (2.1.2)\n",
            "Requirement already satisfied: click>=8.0 in /usr/local/lib/python3.10/dist-packages (from Flask<3.1,>=1.0.4->dash) (8.1.7)\n",
            "Requirement already satisfied: tenacity>=6.2.0 in /usr/local/lib/python3.10/dist-packages (from plotly>=5.0.0->dash) (8.2.3)\n",
            "Requirement already satisfied: packaging in /usr/local/lib/python3.10/dist-packages (from plotly>=5.0.0->dash) (24.0)\n",
            "Requirement already satisfied: MarkupSafe>=2.1.1 in /usr/local/lib/python3.10/dist-packages (from Werkzeug<3.1->dash) (2.1.5)\n",
            "Requirement already satisfied: zipp>=0.5 in /usr/local/lib/python3.10/dist-packages (from importlib-metadata->dash) (3.17.0)\n",
            "Requirement already satisfied: charset-normalizer<4,>=2 in /usr/local/lib/python3.10/dist-packages (from requests->dash) (3.3.2)\n",
            "Requirement already satisfied: idna<4,>=2.5 in /usr/local/lib/python3.10/dist-packages (from requests->dash) (3.6)\n",
            "Requirement already satisfied: urllib3<3,>=1.21.1 in /usr/local/lib/python3.10/dist-packages (from requests->dash) (2.0.7)\n",
            "Requirement already satisfied: certifi>=2017.4.17 in /usr/local/lib/python3.10/dist-packages (from requests->dash) (2024.2.2)\n",
            "Requirement already satisfied: six>=1.7.0 in /usr/local/lib/python3.10/dist-packages (from retrying->dash) (1.16.0)\n",
            "Installing collected packages: dash-table, dash-html-components, dash-core-components, retrying, dash\n",
            "Successfully installed dash-2.16.1 dash-core-components-2.0.0 dash-html-components-2.0.0 dash-table-5.0.0 retrying-1.3.4\n",
            "Requirement already satisfied: dash-core-components in /usr/local/lib/python3.10/dist-packages (2.0.0)\n",
            "Requirement already satisfied: dash-html-components in /usr/local/lib/python3.10/dist-packages (2.0.0)\n",
            "Collecting dash-renderer\n",
            "  Downloading dash_renderer-1.9.1.tar.gz (1.0 MB)\n",
            "\u001b[2K     \u001b[90m━━━━━━━━━━━━━━━━━━━━━━━━━━━━━━━━━━━━━━━━\u001b[0m \u001b[32m1.0/1.0 MB\u001b[0m \u001b[31m13.0 MB/s\u001b[0m eta \u001b[36m0:00:00\u001b[0m\n",
            "\u001b[?25h  Preparing metadata (setup.py) ... \u001b[?25l\u001b[?25hdone\n",
            "Building wheels for collected packages: dash-renderer\n",
            "  Building wheel for dash-renderer (setup.py) ... \u001b[?25l\u001b[?25hdone\n",
            "  Created wheel for dash-renderer: filename=dash_renderer-1.9.1-py3-none-any.whl size=1014851 sha256=a56f3c988b139bc220fd0f7eaa1e4810098dde97bbc6d0197e7cce9ebc5016a3\n",
            "  Stored in directory: /root/.cache/pip/wheels/bd/b7/17/d60d18a7b3420135dfe0ce04d361b396f32b66b75a40471bb6\n",
            "Successfully built dash-renderer\n",
            "Installing collected packages: dash-renderer\n",
            "Successfully installed dash-renderer-1.9.1\n",
            "Requirement already satisfied: plotly in /usr/local/lib/python3.10/dist-packages (5.15.0)\n",
            "Requirement already satisfied: tenacity>=6.2.0 in /usr/local/lib/python3.10/dist-packages (from plotly) (8.2.3)\n",
            "Requirement already satisfied: packaging in /usr/local/lib/python3.10/dist-packages (from plotly) (24.0)\n"
          ]
        }
      ]
    },
    {
      "cell_type": "code",
      "source": [
        "import dash\n",
        "from dash import dcc, html\n",
        "import pandas as pd\n",
        "import plotly.express as px\n",
        "\n",
        "# Sample data\n",
        "data = {\n",
        "    'Company': ['Company A', 'Company B', 'Company C', 'Company D'],\n",
        "    'Revenue': [100, 120, 90, 110],\n",
        "    'Profit': [20, 25, 18, 22],\n",
        "    'Market Share': [15, 18, 12, 16]\n",
        "}\n",
        "\n",
        "# Create a DataFrame\n",
        "df = pd.DataFrame(data)\n",
        "\n",
        "# Initialize the Dash app\n",
        "app = dash.Dash(__name__)\n",
        "\n",
        "# Define the layout of the dashboard\n",
        "app.layout = html.Div([\n",
        "    html.H1(\"Company Performance Dashboard\"),\n",
        "\n",
        "    dcc.Graph(\n",
        "        id='revenue-profit-bar-chart',\n",
        "        figure=px.bar(df, x='Company', y=['Revenue', 'Profit'], barmode='group', title='Revenue and Profit Comparison')\n",
        "    ),\n",
        "\n",
        "    dcc.Graph(\n",
        "        id='market-share-pie-chart',\n",
        "        figure=px.pie(df, values='Market Share', names='Company', title='Market Share Distribution')\n",
        "    ),\n",
        "\n",
        "    html.Div([\n",
        "        html.H2(\"Company Data Table\"),\n",
        "        html.Table([\n",
        "            html.Thead(\n",
        "                html.Tr([html.Th(col) for col in df.columns])\n",
        "            ),\n",
        "            html.Tbody([\n",
        "                html.Tr([\n",
        "                    html.Td(df.iloc[i][col]) for col in df.columns\n",
        "                ]) for i in range(len(df))\n",
        "            ])\n",
        "        ])\n",
        "    ])\n",
        "])\n",
        "\n",
        "# Run the Dash app\n",
        "if __name__ == '__main__':\n",
        "    app.run_server(debug=True)\n"
      ],
      "metadata": {
        "colab": {
          "base_uri": "https://localhost:8080/",
          "height": 671
        },
        "id": "BCkyLuXtqdsn",
        "outputId": "3ff2c405-4259-4972-dd78-428186d5e7ff"
      },
      "execution_count": 52,
      "outputs": [
        {
          "output_type": "display_data",
          "data": {
            "text/plain": [
              "<IPython.core.display.Javascript object>"
            ],
            "application/javascript": [
              "(async (port, path, width, height, cache, element) => {\n",
              "    if (!google.colab.kernel.accessAllowed && !cache) {\n",
              "      return;\n",
              "    }\n",
              "    element.appendChild(document.createTextNode(''));\n",
              "    const url = await google.colab.kernel.proxyPort(port, {cache});\n",
              "    const iframe = document.createElement('iframe');\n",
              "    iframe.src = new URL(path, url).toString();\n",
              "    iframe.height = height;\n",
              "    iframe.width = width;\n",
              "    iframe.style.border = 0;\n",
              "    iframe.allow = [\n",
              "        'accelerometer',\n",
              "        'autoplay',\n",
              "        'camera',\n",
              "        'clipboard-read',\n",
              "        'clipboard-write',\n",
              "        'gyroscope',\n",
              "        'magnetometer',\n",
              "        'microphone',\n",
              "        'serial',\n",
              "        'usb',\n",
              "        'xr-spatial-tracking',\n",
              "    ].join('; ');\n",
              "    element.appendChild(iframe);\n",
              "  })(8050, \"/\", \"100%\", 650, false, window.element)"
            ]
          },
          "metadata": {}
        }
      ]
    }
  ]
}